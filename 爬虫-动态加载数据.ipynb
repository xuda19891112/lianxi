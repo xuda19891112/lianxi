{
 "cells": [
  {
   "cell_type": "code",
   "execution_count": 1,
   "metadata": {},
   "outputs": [],
   "source": [
    "import requests\n",
    "import re"
   ]
  },
  {
   "cell_type": "code",
   "execution_count": 2,
   "metadata": {},
   "outputs": [],
   "source": [
    "### 动态加载数据获取 先通过关键字搜索找到动态加载的请求url、参数\n",
    "### url = 'https://movie.douban.com/typerank?type_name=%E5%8A%A8%E4%BD%9C&type=5&interval_id=100:90&action='\n",
    "# 动态获取 url = 'https://movie.douban.com/j/chart/top_list?type=5&interval_id=100%3A90&action=&start=0&limit=1'\n"
   ]
  },
  {
   "cell_type": "code",
   "execution_count": 3,
   "metadata": {},
   "outputs": [
    {
     "name": "stdout",
     "output_type": "stream",
     "text": [
      "['福尔摩斯二世', '这个杀手不太冷', '切腹', '指环王3：王者无敌', '七武士', '蝙蝠侠：黑暗骑士', '指环王2：双塔奇兵', '赛文奥特曼 我是地球人', '丝路花雨', '少年骇客：变身之谜', '指环王1：护戒使者', '黑客帝国', '将军号', '鬼灭之刃 那田蜘蛛山篇', '赛文奥特曼 光荣与传说', '搏击俱乐部', '攻壳机动队', '用心棒', '让子弹飞', 'V字仇杀队']\n",
      "['9.5', '9.4', '9.4', '9.3', '9.3', '9.2', '9.2', '9.2', '9.2', '9.2', '9.1', '9.1', '9.1', '9.1', '9.1', '9.0', '9.0', '9.0', '8.9', '8.9']\n"
     ]
    }
   ],
   "source": [
    "url = 'https://movie.douban.com/j/chart/top_list'\n",
    "headers = {\n",
    "    'User-Agent': 'Mozilla/5.0 (Windows NT 10.0; Win64; x64) AppleWebKit/537.36 (KHTML, like Gecko) Chrome/96.0.4664.45 Safari/537.36'\n",
    "}\n",
    "params = {\n",
    "    'type': '5',\n",
    "    'interval_id': '100:90',\n",
    "    'action': '',\n",
    "    'start': '0',\n",
    "    'limit': '20',\n",
    "}\n",
    "response = requests.get(url=url, params=params, headers=headers)\n",
    "\n",
    "\"\"\" # 对数据进行保存\n",
    "response.encoding = 'utf-8'\n",
    "page_text = response.text\n",
    "#将整个作为一个字符串保存\n",
    "with open('response.txt','w',encoding='utf-8') as fp:\n",
    "    fp.write(page_text) \"\"\"\n",
    "\n",
    "# 对数据处理，打印\n",
    "page_text = response.json()\n",
    "#将字符串反序列化成字典\n",
    "page_text\n",
    "movieName = []\n",
    "movieScore = []\n",
    "for data in page_text:\n",
    "    movieName.append(data['title'])\n",
    "    movieScore.append(data['score'])\n",
    "print(movieName)\n",
    "print(movieScore)"
   ]
  }
 ],
 "metadata": {
  "interpreter": {
   "hash": "73e03da126b73bfff3642ec5261d56fa25c444ea595de51041687efaa60dda41"
  },
  "kernelspec": {
   "display_name": "Python 3.7.4 64-bit ('base': conda)",
   "language": "python",
   "name": "python3"
  },
  "language_info": {
   "codemirror_mode": {
    "name": "ipython",
    "version": 3
   },
   "file_extension": ".py",
   "mimetype": "text/x-python",
   "name": "python",
   "nbconvert_exporter": "python",
   "pygments_lexer": "ipython3",
   "version": "3.7.4"
  },
  "orig_nbformat": 4
 },
 "nbformat": 4,
 "nbformat_minor": 2
}
