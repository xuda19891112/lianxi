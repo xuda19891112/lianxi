{
 "cells": [
  {
   "cell_type": "code",
   "execution_count": 92,
   "metadata": {},
   "outputs": [],
   "source": [
    "from selenium import webdriver\n",
    "from selenium.webdriver.common.by import By\n",
    "from selenium.webdriver.support.wait import WebDriverWait\n",
    "import pandas as pd\n",
    "import numpy as np"
   ]
  },
  {
   "cell_type": "code",
   "execution_count": 93,
   "metadata": {},
   "outputs": [
    {
     "name": "stderr",
     "output_type": "stream",
     "text": [
      "D:\\ProgramData\\Anaconda3\\lib\\site-packages\\ipykernel_launcher.py:2: DeprecationWarning: executable_path has been deprecated, please pass in a Service object\n",
      "  \n"
     ]
    }
   ],
   "source": [
    "path = r'D:\\chromedriver_win32\\chromedriver.exe'\n",
    "wb = webdriver.Chrome(executable_path=path)\n",
    "wait = WebDriverWait(wb, 10)\n",
    "wb.get('https://www.iqiyi.com/u/1003336869/videos')"
   ]
  },
  {
   "cell_type": "code",
   "execution_count": 94,
   "metadata": {},
   "outputs": [
    {
     "name": "stdout",
     "output_type": "stream",
     "text": [
      "28\n",
      "2022交通事故合集（第十二期）\n",
      "https://www.iqiyi.com/v_2a7l2ilbkz8.html\n",
      "2022交通事故合集（第十一期）\n",
      "https://www.iqiyi.com/v_13qtn5m8qnk.html\n",
      "2022交通事故合集（第十期）\n",
      "https://www.iqiyi.com/v_ol606c6wb8.html\n",
      "2022交通事故合集（第九期）\n",
      "https://www.iqiyi.com/v_nsv75wrejw.html\n",
      "2022交通事故合集（第八期）\n",
      "https://www.iqiyi.com/v_20ur3kbhk0g.html\n",
      "2022交通事故合集（第七期）\n",
      "https://www.iqiyi.com/v_1hbsbe9rb8w.html\n",
      "2022交通事故合集（第六期）\n",
      "https://www.iqiyi.com/v_1q4exf5cyoc.html\n",
      "2022交通事故合集（第五期）\n",
      "https://www.iqiyi.com/v_25nx3njjfbg.html\n",
      "2022交通事故合集（第四期）\n",
      "https://www.iqiyi.com/v_10y5eiplngw.html\n",
      "2022交通事故合集（第三期）\n",
      "https://www.iqiyi.com/v_2d80m0oh530.html\n",
      "2022交通事故合集（第二期）\n",
      "https://www.iqiyi.com/v_26uff3envww.html\n",
      "2022交通事故合集（第一期）\n",
      "https://www.iqiyi.com/v_1k0vbu3mmos.html\n",
      "2021交通事故合集（1230期）\n",
      "https://www.iqiyi.com/v_23w010zgp4w.html\n",
      "2021交通事故合集（1229期）\n",
      "https://www.iqiyi.com/v_1qzo676ekr8.html\n",
      "2021交通事故合集（1227期）\n",
      "https://www.iqiyi.com/v_23qqzvqn4ck.html\n",
      "2021交通事故合集（1226期）\n",
      "https://www.iqiyi.com/v_2b3h8nem3xw.html\n",
      "2021交通事故合集（1225期）\n",
      "https://www.iqiyi.com/v_1zqnam7jjos.html\n",
      "2021交通事故合集（1224期）\n",
      "https://www.iqiyi.com/v_o2f63vpq4o.html\n",
      "2021交通事故合集（1223期）\n",
      "https://www.iqiyi.com/v_adqqrhx5qo.html\n",
      "2021交通事故合集（1221期）\n",
      "https://www.iqiyi.com/v_ol606c68do.html\n",
      "2021交通事故合集（1220期）\n",
      "https://www.iqiyi.com/v_taip4hzqxw.html\n",
      "2021交通事故合集（1219期）\n",
      "https://www.iqiyi.com/v_1wrek1w2zpo.html\n",
      "2021交通事故合集（1219期）\n",
      "https://www.iqiyi.com/v_239z9ykdrc4.html\n",
      "2021交通事故合集（1217期）\n",
      "https://www.iqiyi.com/v_12gaeft600g.html\n",
      "2021交通事故合集（1215期）\n",
      "https://www.iqiyi.com/v_2g1t9ezaegc.html\n",
      "2021交通事故合集（1214期）\n",
      "https://www.iqiyi.com/v_1cmg22y3jw0.html\n",
      "2021交通事故合集（1213期）\n",
      "https://www.iqiyi.com/v_1v8yhhmozz4.html\n",
      "2021交通事故合集（1212期）\n",
      "https://www.iqiyi.com/v_brhu6jt2og.html\n"
     ]
    }
   ],
   "source": [
    "# ul = wb.find_elements_by_xpath(\"//ul[@class='pic-txt-list']//li[@class='li-pic-link']\")\n",
    "# li = ul.find_elements_by_xpath(\".//li[@class='li-pic-link']\")\n",
    "ul = wb.find_element(by=By.XPATH, value = \"//ul[@class='pic-txt-list']\")\n",
    "# print(ul.text)\n",
    "a = ul.find_elements(by=By.XPATH, value = \".//a[@class='li-dec-link']\")\n",
    "print(len(a))\n",
    "nameList = []\n",
    "urlList = []\n",
    "for i in a:\n",
    "    nameTemp = i.text\n",
    "    urlTemp = i.get_attribute('href')\n",
    "    print(nameTemp)\n",
    "    print(urlTemp)\n"
   ]
  }
 ],
 "metadata": {
  "interpreter": {
   "hash": "73e03da126b73bfff3642ec5261d56fa25c444ea595de51041687efaa60dda41"
  },
  "kernelspec": {
   "display_name": "Python 3.7.4 64-bit ('base': conda)",
   "language": "python",
   "name": "python3"
  },
  "language_info": {
   "codemirror_mode": {
    "name": "ipython",
    "version": 3
   },
   "file_extension": ".py",
   "mimetype": "text/x-python",
   "name": "python",
   "nbconvert_exporter": "python",
   "pygments_lexer": "ipython3",
   "version": "3.7.4"
  },
  "orig_nbformat": 4
 },
 "nbformat": 4,
 "nbformat_minor": 2
}
