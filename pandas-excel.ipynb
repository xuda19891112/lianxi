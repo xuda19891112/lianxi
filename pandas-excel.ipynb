{
 "cells": [
  {
   "cell_type": "code",
   "execution_count": 87,
   "metadata": {},
   "outputs": [],
   "source": [
    "import pandas as pd\n",
    "import numpy as np\n",
    "import openpyxl"
   ]
  },
  {
   "cell_type": "code",
   "execution_count": 88,
   "metadata": {},
   "outputs": [],
   "source": [
    "a = [1,2,3,4,5]\n",
    "b = [3,2,3,4,5]\n",
    "c = [5,2,3,4,5]\n",
    "d = [7,2,3,4,5]"
   ]
  },
  {
   "cell_type": "code",
   "execution_count": 89,
   "metadata": {},
   "outputs": [
    {
     "name": "stdout",
     "output_type": "stream",
     "text": [
      "   a  b  c  d\n",
      "0  1  3  5  7\n",
      "1  2  2  2  2\n",
      "2  3  3  3  3\n",
      "3  4  4  4  4\n",
      "4  5  5  5  5\n",
      "RangeIndex(start=0, stop=12, step=1)\n",
      "Index(['a', 'b', 'c', 'd'], dtype='object')\n",
      "0\n",
      "1\n",
      "2\n",
      "3\n",
      "4\n",
      "5\n",
      "6\n",
      "7\n",
      "8\n",
      "9\n",
      "10\n",
      "11\n"
     ]
    },
    {
     "data": {
      "text/html": [
       "<div>\n",
       "<style scoped>\n",
       "    .dataframe tbody tr th:only-of-type {\n",
       "        vertical-align: middle;\n",
       "    }\n",
       "\n",
       "    .dataframe tbody tr th {\n",
       "        vertical-align: top;\n",
       "    }\n",
       "\n",
       "    .dataframe thead th {\n",
       "        text-align: right;\n",
       "    }\n",
       "</style>\n",
       "<table border=\"1\" class=\"dataframe\">\n",
       "  <thead>\n",
       "    <tr style=\"text-align: right;\">\n",
       "      <th></th>\n",
       "      <th>a</th>\n",
       "      <th>b</th>\n",
       "      <th>c</th>\n",
       "    </tr>\n",
       "  </thead>\n",
       "  <tbody>\n",
       "    <tr>\n",
       "      <td>A</td>\n",
       "      <td>1</td>\n",
       "      <td>2</td>\n",
       "      <td>3</td>\n",
       "    </tr>\n",
       "    <tr>\n",
       "      <td>B</td>\n",
       "      <td>2</td>\n",
       "      <td>3</td>\n",
       "      <td>4</td>\n",
       "    </tr>\n",
       "  </tbody>\n",
       "</table>\n",
       "</div>"
      ],
      "text/plain": [
       "   a  b  c\n",
       "A  1  2  3\n",
       "B  2  3  4"
      ]
     },
     "execution_count": 89,
     "metadata": {},
     "output_type": "execute_result"
    }
   ],
   "source": [
    "# sales = {\n",
    "#     'a':a,'b':b,'c':c,'d':d,\n",
    "# }\n",
    "# df1 = pd.DataFrame([a,b,c,d],columns=['a','b','c','d','e'])\n",
    "df1 = pd.DataFrame([a,b,c,d])\n",
    "# print(df1)\n",
    "df1 = df1.T\n",
    "df1.columns = ['a','b','c','d']\n",
    "print(df1)\n",
    "add = [1,1,1,1]\n",
    "addD = {'a':1,'b':2,'c':3,'d':4}\n",
    "df1 = df1.append(addD,ignore_index=True)\n",
    "df2 = df1\n",
    "df1 = df1.append(df2,ignore_index=True)\n",
    "print(df1.index)\n",
    "print(df1.columns)\n",
    "for i in df1.index:\n",
    "    print(i)\n",
    "df3 = pd.DataFrame([[1,2,3],[2,3,4]],columns=['a','b','c'])\n",
    "df3.index = ['A','B']\n",
    "df3"
   ]
  },
  {
   "cell_type": "code",
   "execution_count": 91,
   "metadata": {},
   "outputs": [
    {
     "data": {
      "text/plain": [
       "array([[0.58827685, 0.29493874, 0.47635794],\n",
       "       [0.24030614, 0.12899508, 0.10418655]])"
      ]
     },
     "execution_count": 91,
     "metadata": {},
     "output_type": "execute_result"
    }
   ],
   "source": [
    "s = np.random.rand(6).reshape(2,3)\n",
    "s"
   ]
  },
  {
   "cell_type": "code",
   "execution_count": 92,
   "metadata": {},
   "outputs": [
    {
     "name": "stdout",
     "output_type": "stream",
     "text": [
      "   one  two  three\n",
      "0    1    2    NaN\n",
      "1    5   10   15.0\n",
      "\n",
      "   one  two  three\n",
      "a    1    2    NaN\n",
      "b    5   10   15.0\n",
      "\n",
      "   one  two\n",
      "0    1    2\n",
      "1    5   10\n",
      "\n",
      "   one  two  three\n",
      "0    1    2    NaN\n",
      "1    5   10   15.0\n",
      "\n",
      "   one  two  three  fff\n",
      "0    1    2    NaN  NaN\n",
      "1    5   10   15.0  NaN\n"
     ]
    }
   ],
   "source": [
    "data = [{\"one\":1,\"two\":2},{\"one\":5,\"two\":10,\"three\":15}]\n",
    "df1 = pd.DataFrame(data)\n",
    "df2 = pd.DataFrame(data, index = [\"a\", \"b\"])\n",
    "df3 = pd.DataFrame(data, columns = [\"one\", \"two\"])\n",
    "df4 = pd.DataFrame(data, columns = [\"one\", \"two\", \"three\"])\n",
    "df5 = pd.DataFrame(data, columns = [\"one\", \"two\", \"three\", \"fff\"])\n",
    "print(df1)\n",
    "print()\n",
    "print(df2)\n",
    "print()\n",
    "print(df3)\n",
    "print()\n",
    "print(df4)\n",
    "print()\n",
    "print(df5)"
   ]
  },
  {
   "cell_type": "code",
   "execution_count": null,
   "metadata": {},
   "outputs": [],
   "source": [
    "data = {\n",
    "    \"Jack\":{\"math\":90, \"english\":89, \"art\":78},\n",
    "    \"Marry\":{\"math\":82, \"english\":95, \"art\":96},\n",
    "    \"Tom\":{\"math\":85, \"english\":94}\n",
    "}\n",
    "df1 = pd.DataFrame(data)\n",
    "print(df1)\n",
    "print()\n",
    "\n",
    "df2 = pd.DataFrame(data, columns = [\"Jack\", \"Tom\", \"Bob\"])\n",
    "print(df2)\n",
    "print()\n",
    "\n",
    "df3 = pd.DataFrame(data, index = [\"a\", \"b\", \"c\"], columns = [\"Jack\", \"Tom\", \"Bob\"])\n",
    "# AttributeError: 'list' object has no attribute 'astype'\n",
    "print(df3)\n",
    "print()\n",
    "df4 = pd.DataFrame(data, index = [\"art\", \"math\", \"english\"], columns = [\"Jack\", \"Tom\", \"Bob\"])\n",
    "print(df4)\n",
    "print()\n",
    "\n",
    "print(df1[\"Jack\"])\n",
    "print(df1.loc[\"art\"])"
   ]
  },
  {
   "cell_type": "markdown",
   "metadata": {},
   "source": []
  }
 ],
 "metadata": {
  "interpreter": {
   "hash": "73e03da126b73bfff3642ec5261d56fa25c444ea595de51041687efaa60dda41"
  },
  "kernelspec": {
   "display_name": "Python 3.7.4 64-bit ('base': conda)",
   "language": "python",
   "name": "python3"
  },
  "language_info": {
   "codemirror_mode": {
    "name": "ipython",
    "version": 3
   },
   "file_extension": ".py",
   "mimetype": "text/x-python",
   "name": "python",
   "nbconvert_exporter": "python",
   "pygments_lexer": "ipython3",
   "version": "3.7.4"
  },
  "orig_nbformat": 4
 },
 "nbformat": 4,
 "nbformat_minor": 2
}
